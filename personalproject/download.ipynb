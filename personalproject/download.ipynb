{
 "cells": [
  {
   "cell_type": "code",
   "execution_count": null,
   "id": "14e778ba",
   "metadata": {},
   "outputs": [],
   "source": [
    "!curl -L \"https://universe.roboflow.com/ds/OaWjgsScrJ?key=mYzIHmjOem\" > roboflow.zip; unzip roboflow.zip; rm roboflow.zip"
   ]
  }
 ],
 "metadata": {
  "language_info": {
   "name": "python"
  }
 },
 "nbformat": 4,
 "nbformat_minor": 5
}
