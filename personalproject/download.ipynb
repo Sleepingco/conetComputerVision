{
 "cells": [
  {
   "cell_type": "code",
   "execution_count": null,
   "id": "14e778ba",
   "metadata": {},
   "outputs": [],
   "source": [
    "!curl -L \"https://universe.roboflow.com/ds/OaWjgsScrJ?key=mYzIHmjOem\" > roboflow.zip; unzip roboflow.zip; rm roboflow.zip"
   ]
  },
  {
   "cell_type": "code",
   "execution_count": 1,
   "id": "5d5a0026",
   "metadata": {},
   "outputs": [
    {
     "name": "stderr",
     "output_type": "stream",
     "text": [
      "  % Total    % Received % Xferd  Average Speed   Time    Time     Time  Current\n",
      "                                 Dload  Upload   Total   Spent    Left  Speed\n",
      "\n",
      "  0     0    0     0    0     0      0      0 --:--:-- --:--:-- --:--:--     0\n",
      "  0     0    0     0    0     0      0      0 --:--:-- --:--:-- --:--:--     0\n",
      "100   903  100   903    0     0   1217      0 --:--:-- --:--:-- --:--:--  1218\n",
      "\n",
      "  0 33.8M    0 19085    0     0  13574      0  0:43:32  0:00:01  0:43:31 13574\n",
      "  1 33.8M    1  470k    0     0   203k      0  0:02:49  0:00:02  0:02:47  501k\n",
      " 34 33.8M   34 11.5M    0     0  3588k      0  0:00:09  0:00:03  0:00:06 6231k\n",
      " 84 33.8M   84 28.6M    0     0  6814k      0  0:00:05  0:00:04  0:00:01  9.8M\n",
      "100 33.8M  100 33.8M    0     0  7521k      0  0:00:04  0:00:04 --:--:-- 10.5M\n",
      "curl: (3) URL rejected: Bad hostname\n",
      "  % Total    % Received % Xferd  Average Speed   Time    Time     Time  Current\n",
      "                                 Dload  Upload   Total   Spent    Left  Speed\n",
      "\n",
      "  0     0    0     0    0     0      0      0 --:--:-- --:--:-- --:--:--     0\n",
      "  0     0    0     0    0     0      0      0 --:--:-- --:--:-- --:--:--     0\n",
      "  0     0    0     0    0     0      0      0 --:--:--  0:00:01 --:--:--     0curl: (6) Could not resolve host: unzip\n",
      "curl: (3) URL rejected: Bad hostname\n",
      "  % Total    % Received % Xferd  Average Speed   Time    Time     Time  Current\n",
      "                                 Dload  Upload   Total   Spent    Left  Speed\n",
      "\n",
      "  0     0    0     0    0     0      0      0 --:--:-- --:--:-- --:--:--     0\n",
      "  0     0    0     0    0     0      0      0 --:--:-- --:--:-- --:--:--     0\n",
      "  0     0    0     0    0     0      0      0 --:--:--  0:00:01 --:--:--     0curl: (6) Could not resolve host: rm\n",
      "  % Total    % Received % Xferd  Average Speed   Time    Time     Time  Current\n",
      "                                 Dload  Upload   Total   Spent    Left  Speed\n",
      "\n",
      "  0     0    0     0    0     0      0      0 --:--:-- --:--:-- --:--:--     0curl: (6) Could not resolve host: roboflow.zip\n"
     ]
    }
   ],
   "source": [
    "!curl -L \"https://universe.roboflow.com/ds/2g3OsRnn0Q?key=1ycEayyGH8\" > roboflow.zip; unzip roboflow.zip; rm roboflow.zip"
   ]
  },
  {
   "cell_type": "code",
   "execution_count": 3,
   "id": "016f5381",
   "metadata": {},
   "outputs": [
    {
     "name": "stderr",
     "output_type": "stream",
     "text": [
      "  % Total    % Received % Xferd  Average Speed   Time    Time     Time  Current\n",
      "                                 Dload  Upload   Total   Spent    Left  Speed\n",
      "\n",
      "  0     0    0     0    0     0      0      0 --:--:-- --:--:-- --:--:--     0\n",
      "100   903  100   903    0     0   1967      0 --:--:-- --:--:-- --:--:--  1975\n",
      "\n",
      "  0 1680k    0  8872    0     0   9494      0  0:03:01 --:--:--  0:03:01  9494\n",
      " 19 1680k   19  329k    0     0   174k      0  0:00:09  0:00:01  0:00:08  337k\n",
      "100 1680k  100 1680k    0     0   718k      0  0:00:02  0:00:02 --:--:-- 1191k\n",
      "curl: (3) URL rejected: Bad hostname\n",
      "  % Total    % Received % Xferd  Average Speed   Time    Time     Time  Current\n",
      "                                 Dload  Upload   Total   Spent    Left  Speed\n",
      "\n",
      "  0     0    0     0    0     0      0      0 --:--:-- --:--:-- --:--:--     0\n",
      "  0     0    0     0    0     0      0      0 --:--:-- --:--:-- --:--:--     0\n",
      "  0     0    0     0    0     0      0      0 --:--:--  0:00:01 --:--:--     0curl: (6) Could not resolve host: unzip\n",
      "curl: (3) URL rejected: Bad hostname\n",
      "  % Total    % Received % Xferd  Average Speed   Time    Time     Time  Current\n",
      "                                 Dload  Upload   Total   Spent    Left  Speed\n",
      "\n",
      "  0     0    0     0    0     0      0      0 --:--:-- --:--:-- --:--:--     0\n",
      "  0     0    0     0    0     0      0      0 --:--:-- --:--:-- --:--:--     0\n",
      "  0     0    0     0    0     0      0      0 --:--:--  0:00:01 --:--:--     0curl: (6) Could not resolve host: rm\n",
      "  % Total    % Received % Xferd  Average Speed   Time    Time     Time  Current\n",
      "                                 Dload  Upload   Total   Spent    Left  Speed\n",
      "\n",
      "  0     0    0     0    0     0      0      0 --:--:-- --:--:-- --:--:--     0curl: (6) Could not resolve host: roboflow.zip\n"
     ]
    }
   ],
   "source": [
    "!curl -L \"https://universe.roboflow.com/ds/63gq1SIwUp?key=5mDVTQOFzP\" > roboflow.zip; unzip roboflow.zip; rm roboflow.zip\n"
   ]
  },
  {
   "cell_type": "code",
   "execution_count": 4,
   "id": "d561522d",
   "metadata": {},
   "outputs": [
    {
     "name": "stderr",
     "output_type": "stream",
     "text": [
      "  % Total    % Received % Xferd  Average Speed   Time    Time     Time  Current\n",
      "                                 Dload  Upload   Total   Spent    Left  Speed\n",
      "\n",
      "  0     0    0     0    0     0      0      0 --:--:-- --:--:-- --:--:--     0\n",
      "  0     0    0     0    0     0      0      0 --:--:-- --:--:-- --:--:--     0\n",
      "100   903  100   903    0     0   2305      0 --:--:-- --:--:-- --:--:--  2309\n",
      "\n",
      "  0  137M    0 38245    0     0  36686      0  1:05:19  0:00:01  1:05:18 36686\n",
      "  0  137M    0  814k    0     0   404k      0  0:05:47  0:00:02  0:05:45  798k\n",
      " 11  137M   11 15.8M    0     0  5369k      0  0:00:26  0:00:03  0:00:23 8182k\n",
      " 25  137M   25 35.4M    0     0  9028k      0  0:00:15  0:00:04  0:00:11 11.8M\n",
      " 39  137M   39 53.8M    0     0  10.7M      0  0:00:12  0:00:05  0:00:07 13.5M\n",
      " 55  137M   55 75.8M    0     0  12.5M      0  0:00:10  0:00:06  0:00:04 15.1M\n",
      " 69  137M   69 94.7M    0     0  13.5M      0  0:00:10  0:00:07  0:00:03 18.7M\n",
      " 84  137M   84  115M    0     0  14.3M      0  0:00:09  0:00:08  0:00:01 19.9M\n",
      " 99  137M   99  136M    0     0  15.1M      0  0:00:09  0:00:09 --:--:-- 20.1M\n",
      "100  137M  100  137M    0     0  15.1M      0  0:00:09  0:00:09 --:--:-- 20.7M\n",
      "curl: (3) URL rejected: Bad hostname\n",
      "  % Total    % Received % Xferd  Average Speed   Time    Time     Time  Current\n",
      "                                 Dload  Upload   Total   Spent    Left  Speed\n",
      "\n",
      "  0     0    0     0    0     0      0      0 --:--:-- --:--:-- --:--:--     0\n",
      "  0     0    0     0    0     0      0      0 --:--:--  0:00:01 --:--:--     0\n",
      "  0     0    0     0    0     0      0      0 --:--:--  0:00:02 --:--:--     0curl: (6) Could not resolve host: unzip\n",
      "curl: (3) URL rejected: Bad hostname\n",
      "  % Total    % Received % Xferd  Average Speed   Time    Time     Time  Current\n",
      "                                 Dload  Upload   Total   Spent    Left  Speed\n",
      "\n",
      "  0     0    0     0    0     0      0      0 --:--:-- --:--:-- --:--:--     0\n",
      "  0     0    0     0    0     0      0      0 --:--:-- --:--:-- --:--:--     0\n",
      "  0     0    0     0    0     0      0      0 --:--:--  0:00:01 --:--:--     0curl: (6) Could not resolve host: rm\n",
      "  % Total    % Received % Xferd  Average Speed   Time    Time     Time  Current\n",
      "                                 Dload  Upload   Total   Spent    Left  Speed\n",
      "\n",
      "  0     0    0     0    0     0      0      0 --:--:-- --:--:-- --:--:--     0curl: (6) Could not resolve host: roboflow.zip\n"
     ]
    }
   ],
   "source": [
    "!curl -L \"https://universe.roboflow.com/ds/bWlEjJwSS7?key=2wbXtXYjnA\" > roboflow.zip; unzip roboflow.zip; rm roboflow.zip"
   ]
  }
 ],
 "metadata": {
  "kernelspec": {
   "display_name": "PoseDetect-env",
   "language": "python",
   "name": "python3"
  },
  "language_info": {
   "codemirror_mode": {
    "name": "ipython",
    "version": 3
   },
   "file_extension": ".py",
   "mimetype": "text/x-python",
   "name": "python",
   "nbconvert_exporter": "python",
   "pygments_lexer": "ipython3",
   "version": "3.8.20"
  }
 },
 "nbformat": 4,
 "nbformat_minor": 5
}
