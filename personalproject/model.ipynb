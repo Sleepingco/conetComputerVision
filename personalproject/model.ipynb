{
 "cells": [
  {
   "cell_type": "code",
   "execution_count": null,
   "id": "a95e8423",
   "metadata": {},
   "outputs": [],
   "source": [
    "from sklearn.model_selection import train_test_split\n",
    "from sklearn.preprocessing import LabelEncoder\n",
    "from sklearn.neural_network import MLPClassifier\n",
    "from sklearn.metrics import classification_report, confusion_matrix\n",
    "\n",
    "# Feature (X)와 Label (y) 분리\n",
    "X = df_filtered.iloc[:, :-1].values\n",
    "y = df_filtered.iloc[:, -1].values\n",
    "\n",
    "# 라벨을 숫자로 변환 (good → 1, bad → 0)\n",
    "encoder = LabelEncoder()\n",
    "y_encoded = encoder.fit_transform(y)\n",
    "\n",
    "# 데이터 분할 (train 80%, valid 20%)\n",
    "X_train, X_val, y_train, y_val = train_test_split(X, y_encoded, test_size=0.2, random_state=42, stratify=y_encoded)\n",
    "\n",
    "# MLP 모델 구성 및 훈련\n",
    "clf = MLPClassifier(hidden_layer_sizes=(64, 32), max_iter=500, random_state=42)\n",
    "clf.fit(X_train, y_train)\n",
    "\n",
    "# 평가\n",
    "y_pred = clf.predict(X_val)\n",
    "print(classification_report(y_val, y_pred, target_names=encoder.classes_))\n",
    "print(\"혼동행렬:\")\n",
    "print(confusion_matrix(y_val, y_pred))\n"
   ]
  }
 ],
 "metadata": {
  "language_info": {
   "name": "python"
  }
 },
 "nbformat": 4,
 "nbformat_minor": 5
}
